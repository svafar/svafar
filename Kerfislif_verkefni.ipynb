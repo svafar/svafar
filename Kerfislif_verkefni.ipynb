{
  "nbformat": 4,
  "nbformat_minor": 0,
  "metadata": {
    "colab": {
      "name": "Kerfislif_verkefni.ipynb",
      "provenance": [],
      "collapsed_sections": [],
      "include_colab_link": true
    },
    "kernelspec": {
      "name": "python3",
      "display_name": "Python 3"
    },
    "language_info": {
      "name": "python"
    }
  },
  "cells": [
    {
      "cell_type": "markdown",
      "metadata": {
        "id": "view-in-github",
        "colab_type": "text"
      },
      "source": [
        "<a href=\"https://colab.research.google.com/github/svafar/svafar/blob/main/Kerfislif_verkefni.ipynb\" target=\"_parent\"><img src=\"https://colab.research.google.com/assets/colab-badge.svg\" alt=\"Open In Colab\"/></a>"
      ]
    },
    {
      "cell_type": "code",
      "source": [
        "e = gp.Env(empty=True)\n",
        "e.setParam('WLSACCESSID', '87f4cd56-e5d2-41f6-9b15-7741f0faeb7f')\n",
        "e.setParam('WLSSECRET', 'eb8fc614-ade6-4300-ac36-810126b031c8')\n",
        "e.setParam('LICENSEID', 783406)\n",
        "e.start()\n",
        "model_p = gp.Model(env=e)\n"
      ],
      "metadata": {
        "id": "erUGl38QkhfO"
      },
      "execution_count": null,
      "outputs": []
    },
    {
      "cell_type": "code",
      "execution_count": null,
      "metadata": {
        "id": "5BwJDunH0Ib2",
        "colab": {
          "base_uri": "https://localhost:8080/"
        },
        "outputId": "66846c98-e9eb-41b7-e3cd-1a70846f68af"
      },
      "outputs": [
        {
          "output_type": "stream",
          "name": "stdout",
          "text": [
            "Collecting rich==6.2.0\n",
            "  Downloading rich-6.2.0-py3-none-any.whl (150 kB)\n",
            "\u001b[?25l\r\u001b[K     |██▏                             | 10 kB 21.7 MB/s eta 0:00:01\r\u001b[K     |████▍                           | 20 kB 25.4 MB/s eta 0:00:01\r\u001b[K     |██████▌                         | 30 kB 30.4 MB/s eta 0:00:01\r\u001b[K     |████████▊                       | 40 kB 24.4 MB/s eta 0:00:01\r\u001b[K     |███████████                     | 51 kB 16.8 MB/s eta 0:00:01\r\u001b[K     |█████████████                   | 61 kB 18.7 MB/s eta 0:00:01\r\u001b[K     |███████████████▎                | 71 kB 17.6 MB/s eta 0:00:01\r\u001b[K     |█████████████████▌              | 81 kB 18.3 MB/s eta 0:00:01\r\u001b[K     |███████████████████▋            | 92 kB 19.5 MB/s eta 0:00:01\r\u001b[K     |█████████████████████▉          | 102 kB 20.7 MB/s eta 0:00:01\r\u001b[K     |████████████████████████        | 112 kB 20.7 MB/s eta 0:00:01\r\u001b[K     |██████████████████████████▏     | 122 kB 20.7 MB/s eta 0:00:01\r\u001b[K     |████████████████████████████▍   | 133 kB 20.7 MB/s eta 0:00:01\r\u001b[K     |██████████████████████████████▋ | 143 kB 20.7 MB/s eta 0:00:01\r\u001b[K     |████████████████████████████████| 150 kB 20.7 MB/s \n",
            "\u001b[?25hCollecting commonmark<0.10.0,>=0.9.0\n",
            "  Downloading commonmark-0.9.1-py2.py3-none-any.whl (51 kB)\n",
            "\u001b[?25l\r\u001b[K     |██████▍                         | 10 kB 29.5 MB/s eta 0:00:01\r\u001b[K     |████████████▉                   | 20 kB 37.7 MB/s eta 0:00:01\r\u001b[K     |███████████████████▎            | 30 kB 44.4 MB/s eta 0:00:01\r\u001b[K     |█████████████████████████▋      | 40 kB 50.3 MB/s eta 0:00:01\r\u001b[K     |████████████████████████████████| 51 kB 7.2 MB/s \n",
            "\u001b[?25hCollecting colorama<0.5.0,>=0.4.0\n",
            "  Downloading colorama-0.4.4-py2.py3-none-any.whl (16 kB)\n",
            "Requirement already satisfied: typing-extensions<4.0.0,>=3.7.4 in /usr/local/lib/python3.7/dist-packages (from rich==6.2.0) (3.10.0.2)\n",
            "Requirement already satisfied: pygments<3.0.0,>=2.6.0 in /usr/local/lib/python3.7/dist-packages (from rich==6.2.0) (2.6.1)\n",
            "Installing collected packages: commonmark, colorama, rich\n",
            "Successfully installed colorama-0.4.4 commonmark-0.9.1 rich-6.2.0\n",
            "Collecting cobra\n",
            "  Downloading cobra-0.24.0-py2.py3-none-any.whl (2.6 MB)\n",
            "\u001b[K     |████████████████████████████████| 2.6 MB 27.9 MB/s \n",
            "\u001b[?25hRequirement already satisfied: appdirs~=1.4 in /usr/local/lib/python3.7/dist-packages (from cobra) (1.4.4)\n",
            "Collecting httpx~=0.14\n",
            "  Downloading httpx-0.22.0-py3-none-any.whl (84 kB)\n",
            "\u001b[K     |████████████████████████████████| 84 kB 2.9 MB/s \n",
            "\u001b[?25hCollecting ruamel.yaml~=0.16\n",
            "  Downloading ruamel.yaml-0.17.21-py3-none-any.whl (109 kB)\n",
            "\u001b[K     |████████████████████████████████| 109 kB 66.4 MB/s \n",
            "\u001b[?25hCollecting pydantic~=1.6\n",
            "  Downloading pydantic-1.9.0-cp37-cp37m-manylinux_2_17_x86_64.manylinux2014_x86_64.whl (10.9 MB)\n",
            "\u001b[K     |████████████████████████████████| 10.9 MB 53.1 MB/s \n",
            "\u001b[?25hRequirement already satisfied: numpy~=1.13 in /usr/local/lib/python3.7/dist-packages (from cobra) (1.21.5)\n",
            "Collecting diskcache~=5.0\n",
            "  Downloading diskcache-5.4.0-py3-none-any.whl (44 kB)\n",
            "\u001b[K     |████████████████████████████████| 44 kB 3.2 MB/s \n",
            "\u001b[?25hCollecting swiglpk\n",
            "  Downloading swiglpk-5.0.5-cp37-cp37m-manylinux_2_17_x86_64.manylinux2014_x86_64.whl (2.3 MB)\n",
            "\u001b[K     |████████████████████████████████| 2.3 MB 39.7 MB/s \n",
            "\u001b[?25hRequirement already satisfied: future in /usr/local/lib/python3.7/dist-packages (from cobra) (0.16.0)\n",
            "Requirement already satisfied: importlib-resources in /usr/local/lib/python3.7/dist-packages (from cobra) (5.4.0)\n",
            "Collecting rich>=8.0\n",
            "  Downloading rich-12.0.1-py3-none-any.whl (224 kB)\n",
            "\u001b[K     |████████████████████████████████| 224 kB 67.9 MB/s \n",
            "\u001b[?25hCollecting depinfo~=1.7\n",
            "  Downloading depinfo-1.7.0-py2.py3-none-any.whl (8.6 kB)\n",
            "Requirement already satisfied: pandas~=1.0 in /usr/local/lib/python3.7/dist-packages (from cobra) (1.3.5)\n",
            "Collecting optlang~=1.5\n",
            "  Downloading optlang-1.5.2-py2.py3-none-any.whl (147 kB)\n",
            "\u001b[K     |████████████████████████████████| 147 kB 56.7 MB/s \n",
            "\u001b[?25hCollecting python-libsbml==5.19.2\n",
            "  Downloading python_libsbml-5.19.2-cp37-cp37m-manylinux_2_12_x86_64.manylinux2010_x86_64.whl (7.3 MB)\n",
            "\u001b[K     |████████████████████████████████| 7.3 MB 49.4 MB/s \n",
            "\u001b[?25hRequirement already satisfied: importlib-metadata in /usr/local/lib/python3.7/dist-packages (from depinfo~=1.7->cobra) (4.11.3)\n",
            "Requirement already satisfied: certifi in /usr/local/lib/python3.7/dist-packages (from httpx~=0.14->cobra) (2021.10.8)\n",
            "Collecting rfc3986[idna2008]<2,>=1.3\n",
            "  Downloading rfc3986-1.5.0-py2.py3-none-any.whl (31 kB)\n",
            "Requirement already satisfied: charset-normalizer in /usr/local/lib/python3.7/dist-packages (from httpx~=0.14->cobra) (2.0.12)\n",
            "Collecting sniffio\n",
            "  Downloading sniffio-1.2.0-py3-none-any.whl (10 kB)\n",
            "Collecting httpcore<0.15.0,>=0.14.5\n",
            "  Downloading httpcore-0.14.7-py3-none-any.whl (68 kB)\n",
            "\u001b[K     |████████████████████████████████| 68 kB 5.6 MB/s \n",
            "\u001b[?25hCollecting anyio==3.*\n",
            "  Downloading anyio-3.5.0-py3-none-any.whl (79 kB)\n",
            "\u001b[K     |████████████████████████████████| 79 kB 7.5 MB/s \n",
            "\u001b[?25hCollecting h11<0.13,>=0.11\n",
            "  Downloading h11-0.12.0-py3-none-any.whl (54 kB)\n",
            "\u001b[K     |████████████████████████████████| 54 kB 3.3 MB/s \n",
            "\u001b[?25hRequirement already satisfied: typing-extensions in /usr/local/lib/python3.7/dist-packages (from anyio==3.*->httpcore<0.15.0,>=0.14.5->httpx~=0.14->cobra) (3.10.0.2)\n",
            "Requirement already satisfied: idna>=2.8 in /usr/local/lib/python3.7/dist-packages (from anyio==3.*->httpcore<0.15.0,>=0.14.5->httpx~=0.14->cobra) (2.10)\n",
            "Requirement already satisfied: six>=1.9 in /usr/local/lib/python3.7/dist-packages (from optlang~=1.5->cobra) (1.15.0)\n",
            "Requirement already satisfied: sympy>=1.0 in /usr/local/lib/python3.7/dist-packages (from optlang~=1.5->cobra) (1.7.1)\n",
            "Requirement already satisfied: python-dateutil>=2.7.3 in /usr/local/lib/python3.7/dist-packages (from pandas~=1.0->cobra) (2.8.2)\n",
            "Requirement already satisfied: pytz>=2017.3 in /usr/local/lib/python3.7/dist-packages (from pandas~=1.0->cobra) (2018.9)\n",
            "Requirement already satisfied: pygments<3.0.0,>=2.6.0 in /usr/local/lib/python3.7/dist-packages (from rich>=8.0->cobra) (2.6.1)\n",
            "Requirement already satisfied: commonmark<0.10.0,>=0.9.0 in /usr/local/lib/python3.7/dist-packages (from rich>=8.0->cobra) (0.9.1)\n",
            "Collecting ruamel.yaml.clib>=0.2.6\n",
            "  Downloading ruamel.yaml.clib-0.2.6-cp37-cp37m-manylinux1_x86_64.whl (546 kB)\n",
            "\u001b[K     |████████████████████████████████| 546 kB 44.2 MB/s \n",
            "\u001b[?25hRequirement already satisfied: mpmath>=0.19 in /usr/local/lib/python3.7/dist-packages (from sympy>=1.0->optlang~=1.5->cobra) (1.2.1)\n",
            "Requirement already satisfied: zipp>=0.5 in /usr/local/lib/python3.7/dist-packages (from importlib-metadata->depinfo~=1.7->cobra) (3.7.0)\n",
            "Installing collected packages: sniffio, rfc3986, h11, anyio, swiglpk, ruamel.yaml.clib, httpcore, ruamel.yaml, rich, python-libsbml, pydantic, optlang, httpx, diskcache, depinfo, cobra\n",
            "  Attempting uninstall: rich\n",
            "    Found existing installation: rich 6.2.0\n",
            "    Uninstalling rich-6.2.0:\n",
            "      Successfully uninstalled rich-6.2.0\n",
            "Successfully installed anyio-3.5.0 cobra-0.24.0 depinfo-1.7.0 diskcache-5.4.0 h11-0.12.0 httpcore-0.14.7 httpx-0.22.0 optlang-1.5.2 pydantic-1.9.0 python-libsbml-5.19.2 rfc3986-1.5.0 rich-12.0.1 ruamel.yaml-0.17.21 ruamel.yaml.clib-0.2.6 sniffio-1.2.0 swiglpk-5.0.5\n"
          ]
        }
      ],
      "source": [
        "!pip install rich==6.2.0\n",
        "!pip install cobra\n",
        "from cobra import Model, Reaction, Metabolite\n",
        "from cobra.util.solver import linear_reaction_coefficients\n",
        "!pip install gurobipy  # install gurobipy, if not already installed\n",
        "import gurobipy as gp\n",
        "import cobra.test\n",
        "from cobra.flux_analysis import flux_variability_analysis\n"
      ]
    },
    {
      "cell_type": "code",
      "source": [
        "import os"
      ],
      "metadata": {
        "id": "pEEU_auqyAFI"
      },
      "execution_count": null,
      "outputs": []
    },
    {
      "cell_type": "code",
      "source": [
        "! git clone https://github.com/SysBioChalmers/yeast-GEM.git"
      ],
      "metadata": {
        "colab": {
          "base_uri": "https://localhost:8080/"
        },
        "id": "tw-pTn3nsoYZ",
        "outputId": "e535dc2f-2cc2-49c7-b668-3b4bd0358a24"
      },
      "execution_count": null,
      "outputs": [
        {
          "output_type": "stream",
          "name": "stdout",
          "text": [
            "fatal: destination path 'yeast-GEM' already exists and is not an empty directory.\n"
          ]
        }
      ]
    },
    {
      "cell_type": "code",
      "source": [
        "!pip install -r yeast-GEM/requirements/requirements.txt  # installs all dependencies               # creates a .env file for locating the root"
      ],
      "metadata": {
        "id": "wenxupBMfnzY",
        "colab": {
          "base_uri": "https://localhost:8080/"
        },
        "outputId": "d8d19d6b-99f3-4064-8683-3d7dc837641d"
      },
      "execution_count": null,
      "outputs": [
        {
          "output_type": "stream",
          "name": "stdout",
          "text": [
            "Requirement already satisfied: alabaster==0.7.12 in /usr/local/lib/python3.7/dist-packages (from -r yeast-GEM/requirements/requirements.txt (line 7)) (0.7.12)\n",
            "Requirement already satisfied: appdirs==1.4.4 in /usr/local/lib/python3.7/dist-packages (from -r yeast-GEM/requirements/requirements.txt (line 9)) (1.4.4)\n",
            "Requirement already satisfied: argon2-cffi==20.1.0 in /usr/local/lib/python3.7/dist-packages (from -r yeast-GEM/requirements/requirements.txt (line 11)) (20.1.0)\n",
            "Requirement already satisfied: arrow==1.0.3 in /usr/local/lib/python3.7/dist-packages (from -r yeast-GEM/requirements/requirements.txt (line 13)) (1.0.3)\n",
            "Requirement already satisfied: async-generator==1.10 in /usr/local/lib/python3.7/dist-packages (from -r yeast-GEM/requirements/requirements.txt (line 15)) (1.10)\n",
            "Requirement already satisfied: attrs==20.3.0 in /usr/local/lib/python3.7/dist-packages (from -r yeast-GEM/requirements/requirements.txt (line 17)) (20.3.0)\n",
            "Requirement already satisfied: babel==2.9.1 in /usr/local/lib/python3.7/dist-packages (from -r yeast-GEM/requirements/requirements.txt (line 21)) (2.9.1)\n",
            "Requirement already satisfied: backcall==0.2.0 in /usr/local/lib/python3.7/dist-packages (from -r yeast-GEM/requirements/requirements.txt (line 23)) (0.2.0)\n",
            "Requirement already satisfied: binaryornot==0.4.4 in /usr/local/lib/python3.7/dist-packages (from -r yeast-GEM/requirements/requirements.txt (line 25)) (0.4.4)\n",
            "Requirement already satisfied: bleach==3.3.0 in /usr/local/lib/python3.7/dist-packages (from -r yeast-GEM/requirements/requirements.txt (line 27)) (3.3.0)\n",
            "Requirement already satisfied: boto3==1.17.49 in /usr/local/lib/python3.7/dist-packages (from -r yeast-GEM/requirements/requirements.txt (line 29)) (1.17.49)\n",
            "Requirement already satisfied: botocore==1.20.49 in /usr/local/lib/python3.7/dist-packages (from -r yeast-GEM/requirements/requirements.txt (line 31)) (1.20.49)\n",
            "Requirement already satisfied: cached-property==1.5.2 in /usr/local/lib/python3.7/dist-packages (from -r yeast-GEM/requirements/requirements.txt (line 35)) (1.5.2)\n",
            "Requirement already satisfied: certifi==2020.12.5 in /usr/local/lib/python3.7/dist-packages (from -r yeast-GEM/requirements/requirements.txt (line 37)) (2020.12.5)\n",
            "Requirement already satisfied: cffi==1.14.5 in /usr/local/lib/python3.7/dist-packages (from -r yeast-GEM/requirements/requirements.txt (line 41)) (1.14.5)\n",
            "Requirement already satisfied: chardet==4.0.0 in /usr/local/lib/python3.7/dist-packages (from -r yeast-GEM/requirements/requirements.txt (line 45)) (4.0.0)\n",
            "Requirement already satisfied: click==7.1.2 in /usr/local/lib/python3.7/dist-packages (from -r yeast-GEM/requirements/requirements.txt (line 51)) (7.1.2)\n",
            "Requirement already satisfied: click-configfile==0.2.3 in /usr/local/lib/python3.7/dist-packages (from -r yeast-GEM/requirements/requirements.txt (line 63)) (0.2.3)\n",
            "Requirement already satisfied: click-default-group==1.2.2 in /usr/local/lib/python3.7/dist-packages (from -r yeast-GEM/requirements/requirements.txt (line 65)) (1.2.2)\n",
            "Requirement already satisfied: click-log==0.3.2 in /usr/local/lib/python3.7/dist-packages (from -r yeast-GEM/requirements/requirements.txt (line 67)) (0.3.2)\n",
            "Requirement already satisfied: cobra==0.22.1 in /usr/local/lib/python3.7/dist-packages (from -r yeast-GEM/requirements/requirements.txt (line 69)) (0.22.1)\n",
            "Requirement already satisfied: colorama==0.4.4 in /usr/local/lib/python3.7/dist-packages (from -r yeast-GEM/requirements/requirements.txt (line 73)) (0.4.4)\n",
            "Requirement already satisfied: commonmark==0.9.1 in /usr/local/lib/python3.7/dist-packages (from -r yeast-GEM/requirements/requirements.txt (line 75)) (0.9.1)\n",
            "Requirement already satisfied: configparser==5.0.2 in /usr/local/lib/python3.7/dist-packages (from -r yeast-GEM/requirements/requirements.txt (line 77)) (5.0.2)\n",
            "Requirement already satisfied: cookiecutter==1.7.2 in /usr/local/lib/python3.7/dist-packages (from -r yeast-GEM/requirements/requirements.txt (line 79)) (1.7.2)\n",
            "Requirement already satisfied: cryptography==3.4.7 in /usr/local/lib/python3.7/dist-packages (from -r yeast-GEM/requirements/requirements.txt (line 81)) (3.4.7)\n",
            "Requirement already satisfied: datapackage==1.15.2 in /usr/local/lib/python3.7/dist-packages (from -r yeast-GEM/requirements/requirements.txt (line 83)) (1.15.2)\n",
            "Requirement already satisfied: decorator==5.0.6 in /usr/local/lib/python3.7/dist-packages (from -r yeast-GEM/requirements/requirements.txt (line 85)) (5.0.6)\n",
            "Requirement already satisfied: defusedxml==0.7.1 in /usr/local/lib/python3.7/dist-packages (from -r yeast-GEM/requirements/requirements.txt (line 87)) (0.7.1)\n",
            "Requirement already satisfied: depinfo==1.7.0 in /usr/local/lib/python3.7/dist-packages (from -r yeast-GEM/requirements/requirements.txt (line 89)) (1.7.0)\n",
            "Requirement already satisfied: diskcache==5.2.1 in /usr/local/lib/python3.7/dist-packages (from -r yeast-GEM/requirements/requirements.txt (line 93)) (5.2.1)\n",
            "Requirement already satisfied: docutils==0.17 in /usr/local/lib/python3.7/dist-packages (from -r yeast-GEM/requirements/requirements.txt (line 95)) (0.17)\n",
            "Requirement already satisfied: entrypoints==0.3 in /usr/local/lib/python3.7/dist-packages (from -r yeast-GEM/requirements/requirements.txt (line 99)) (0.3)\n",
            "Requirement already satisfied: et-xmlfile==1.0.1 in /usr/local/lib/python3.7/dist-packages (from -r yeast-GEM/requirements/requirements.txt (line 101)) (1.0.1)\n",
            "Requirement already satisfied: future==0.18.2 in /usr/local/lib/python3.7/dist-packages (from -r yeast-GEM/requirements/requirements.txt (line 103)) (0.18.2)\n",
            "Requirement already satisfied: gitdb==4.0.7 in /usr/local/lib/python3.7/dist-packages (from -r yeast-GEM/requirements/requirements.txt (line 107)) (4.0.7)\n",
            "Requirement already satisfied: gitpython==3.1.14 in /usr/local/lib/python3.7/dist-packages (from -r yeast-GEM/requirements/requirements.txt (line 109)) (3.1.14)\n",
            "Requirement already satisfied: goodtables==2.5.4 in /usr/local/lib/python3.7/dist-packages (from -r yeast-GEM/requirements/requirements.txt (line 111)) (2.5.4)\n",
            "Requirement already satisfied: greenlet==1.0.0 in /usr/local/lib/python3.7/dist-packages (from -r yeast-GEM/requirements/requirements.txt (line 113)) (1.0.0)\n",
            "Requirement already satisfied: h11==0.12.0 in /usr/local/lib/python3.7/dist-packages (from -r yeast-GEM/requirements/requirements.txt (line 115)) (0.12.0)\n",
            "Requirement already satisfied: httpcore==0.12.3 in /usr/local/lib/python3.7/dist-packages (from -r yeast-GEM/requirements/requirements.txt (line 117)) (0.12.3)\n",
            "Requirement already satisfied: httpx==0.17.1 in /usr/local/lib/python3.7/dist-packages (from -r yeast-GEM/requirements/requirements.txt (line 119)) (0.17.1)\n",
            "Requirement already satisfied: idna==2.10 in /usr/local/lib/python3.7/dist-packages (from -r yeast-GEM/requirements/requirements.txt (line 121)) (2.10)\n",
            "Requirement already satisfied: ijson==3.1.4 in /usr/local/lib/python3.7/dist-packages (from -r yeast-GEM/requirements/requirements.txt (line 125)) (3.1.4)\n",
            "Requirement already satisfied: imagesize==1.2.0 in /usr/local/lib/python3.7/dist-packages (from -r yeast-GEM/requirements/requirements.txt (line 127)) (1.2.0)\n",
            "Requirement already satisfied: importlib-resources==5.1.2 in /usr/local/lib/python3.7/dist-packages (from -r yeast-GEM/requirements/requirements.txt (line 129)) (5.1.2)\n",
            "Requirement already satisfied: iniconfig==1.1.1 in /usr/local/lib/python3.7/dist-packages (from -r yeast-GEM/requirements/requirements.txt (line 133)) (1.1.1)\n",
            "Requirement already satisfied: ipykernel==5.5.3 in /usr/local/lib/python3.7/dist-packages (from -r yeast-GEM/requirements/requirements.txt (line 135)) (5.5.3)\n",
            "Requirement already satisfied: ipython==7.22.0 in /usr/local/lib/python3.7/dist-packages (from -r yeast-GEM/requirements/requirements.txt (line 137)) (7.22.0)\n",
            "Requirement already satisfied: ipython-genutils==0.2.0 in /usr/local/lib/python3.7/dist-packages (from -r yeast-GEM/requirements/requirements.txt (line 139)) (0.2.0)\n",
            "Requirement already satisfied: isodate==0.6.0 in /usr/local/lib/python3.7/dist-packages (from -r yeast-GEM/requirements/requirements.txt (line 144)) (0.6.0)\n",
            "Requirement already satisfied: jedi==0.18.0 in /usr/local/lib/python3.7/dist-packages (from -r yeast-GEM/requirements/requirements.txt (line 146)) (0.18.0)\n",
            "Requirement already satisfied: jinja2==2.11.3 in /usr/local/lib/python3.7/dist-packages (from -r yeast-GEM/requirements/requirements.txt (line 148)) (2.11.3)\n",
            "Requirement already satisfied: jinja2-time==0.2.0 in /usr/local/lib/python3.7/dist-packages (from -r yeast-GEM/requirements/requirements.txt (line 157)) (0.2.0)\n",
            "Requirement already satisfied: jmespath==0.10.0 in /usr/local/lib/python3.7/dist-packages (from -r yeast-GEM/requirements/requirements.txt (line 159)) (0.10.0)\n",
            "Requirement already satisfied: jsonlines==2.0.0 in /usr/local/lib/python3.7/dist-packages (from -r yeast-GEM/requirements/requirements.txt (line 163)) (2.0.0)\n",
            "Requirement already satisfied: jsonpointer==2.1 in /usr/local/lib/python3.7/dist-packages (from -r yeast-GEM/requirements/requirements.txt (line 165)) (2.1)\n",
            "Requirement already satisfied: jsonschema==3.2.0 in /usr/local/lib/python3.7/dist-packages (from -r yeast-GEM/requirements/requirements.txt (line 167)) (3.2.0)\n",
            "Requirement already satisfied: jupyter-client==6.1.12 in /usr/local/lib/python3.7/dist-packages (from -r yeast-GEM/requirements/requirements.txt (line 172)) (6.1.12)\n",
            "Requirement already satisfied: jupyter-core==4.7.1 in /usr/local/lib/python3.7/dist-packages (from -r yeast-GEM/requirements/requirements.txt (line 177)) (4.7.1)\n",
            "Requirement already satisfied: jupyterlab-pygments==0.1.2 in /usr/local/lib/python3.7/dist-packages (from -r yeast-GEM/requirements/requirements.txt (line 183)) (0.1.2)\n",
            "Requirement already satisfied: linear-tsv==1.1.0 in /usr/local/lib/python3.7/dist-packages (from -r yeast-GEM/requirements/requirements.txt (line 185)) (1.1.0)\n",
            "Requirement already satisfied: markupsafe==1.1.1 in /usr/local/lib/python3.7/dist-packages (from -r yeast-GEM/requirements/requirements.txt (line 187)) (1.1.1)\n",
            "Requirement already satisfied: memote==0.13.0 in /usr/local/lib/python3.7/dist-packages (from -r yeast-GEM/requirements/requirements.txt (line 191)) (0.13.0)\n",
            "Requirement already satisfied: mistune==0.8.4 in /usr/local/lib/python3.7/dist-packages (from -r yeast-GEM/requirements/requirements.txt (line 193)) (0.8.4)\n",
            "Requirement already satisfied: mpmath==1.2.1 in /usr/local/lib/python3.7/dist-packages (from -r yeast-GEM/requirements/requirements.txt (line 195)) (1.2.1)\n",
            "Requirement already satisfied: nbclient==0.5.3 in /usr/local/lib/python3.7/dist-packages (from -r yeast-GEM/requirements/requirements.txt (line 197)) (0.5.3)\n",
            "Requirement already satisfied: nbconvert==6.0.7 in /usr/local/lib/python3.7/dist-packages (from -r yeast-GEM/requirements/requirements.txt (line 199)) (6.0.7)\n",
            "Requirement already satisfied: nbformat==5.1.3 in /usr/local/lib/python3.7/dist-packages (from -r yeast-GEM/requirements/requirements.txt (line 201)) (5.1.3)\n",
            "Requirement already satisfied: nest-asyncio==1.5.1 in /usr/local/lib/python3.7/dist-packages (from -r yeast-GEM/requirements/requirements.txt (line 206)) (1.5.1)\n",
            "Requirement already satisfied: notebook==6.4.4 in /usr/local/lib/python3.7/dist-packages (from -r yeast-GEM/requirements/requirements.txt (line 208)) (6.4.4)\n",
            "Requirement already satisfied: numpy==1.20.2 in /usr/local/lib/python3.7/dist-packages (from -r yeast-GEM/requirements/requirements.txt (line 210)) (1.20.2)\n",
            "Requirement already satisfied: numpydoc==1.1.0 in /usr/local/lib/python3.7/dist-packages (from -r yeast-GEM/requirements/requirements.txt (line 214)) (1.1.0)\n",
            "Requirement already satisfied: openpyxl==3.0.7 in /usr/local/lib/python3.7/dist-packages (from -r yeast-GEM/requirements/requirements.txt (line 216)) (3.0.7)\n",
            "Requirement already satisfied: optlang==1.5.2 in /usr/local/lib/python3.7/dist-packages (from -r yeast-GEM/requirements/requirements.txt (line 218)) (1.5.2)\n",
            "Requirement already satisfied: packaging==20.9 in /usr/local/lib/python3.7/dist-packages (from -r yeast-GEM/requirements/requirements.txt (line 220)) (20.9)\n",
            "Requirement already satisfied: pandas==1.2.3 in /usr/local/lib/python3.7/dist-packages (from -r yeast-GEM/requirements/requirements.txt (line 225)) (1.2.3)\n",
            "Requirement already satisfied: pandocfilters==1.4.3 in /usr/local/lib/python3.7/dist-packages (from -r yeast-GEM/requirements/requirements.txt (line 229)) (1.4.3)\n",
            "Requirement already satisfied: parso==0.8.2 in /usr/local/lib/python3.7/dist-packages (from -r yeast-GEM/requirements/requirements.txt (line 231)) (0.8.2)\n",
            "Requirement already satisfied: pexpect==4.8.0 in /usr/local/lib/python3.7/dist-packages (from -r yeast-GEM/requirements/requirements.txt (line 233)) (4.8.0)\n",
            "Requirement already satisfied: pickleshare==0.7.5 in /usr/local/lib/python3.7/dist-packages (from -r yeast-GEM/requirements/requirements.txt (line 235)) (0.7.5)\n",
            "Requirement already satisfied: pluggy==0.13.1 in /usr/local/lib/python3.7/dist-packages (from -r yeast-GEM/requirements/requirements.txt (line 237)) (0.13.1)\n",
            "Requirement already satisfied: poyo==0.5.0 in /usr/local/lib/python3.7/dist-packages (from -r yeast-GEM/requirements/requirements.txt (line 239)) (0.5.0)\n",
            "Requirement already satisfied: prometheus-client==0.10.1 in /usr/local/lib/python3.7/dist-packages (from -r yeast-GEM/requirements/requirements.txt (line 241)) (0.10.1)\n",
            "Requirement already satisfied: prompt-toolkit==3.0.18 in /usr/local/lib/python3.7/dist-packages (from -r yeast-GEM/requirements/requirements.txt (line 243)) (3.0.18)\n",
            "Requirement already satisfied: ptyprocess==0.7.0 in /usr/local/lib/python3.7/dist-packages (from -r yeast-GEM/requirements/requirements.txt (line 245)) (0.7.0)\n",
            "Requirement already satisfied: py==1.10.0 in /usr/local/lib/python3.7/dist-packages (from -r yeast-GEM/requirements/requirements.txt (line 249)) (1.10.0)\n",
            "Requirement already satisfied: pycparser==2.20 in /usr/local/lib/python3.7/dist-packages (from -r yeast-GEM/requirements/requirements.txt (line 251)) (2.20)\n",
            "Requirement already satisfied: pydantic==1.8.2 in /usr/local/lib/python3.7/dist-packages (from -r yeast-GEM/requirements/requirements.txt (line 253)) (1.8.2)\n",
            "Requirement already satisfied: pygments==2.8.1 in /usr/local/lib/python3.7/dist-packages (from -r yeast-GEM/requirements/requirements.txt (line 255)) (2.8.1)\n",
            "Requirement already satisfied: pylru==1.2.0 in /usr/local/lib/python3.7/dist-packages (from -r yeast-GEM/requirements/requirements.txt (line 262)) (1.2.0)\n",
            "Requirement already satisfied: pyparsing==2.4.7 in /usr/local/lib/python3.7/dist-packages (from -r yeast-GEM/requirements/requirements.txt (line 264)) (2.4.7)\n",
            "Requirement already satisfied: pyperclip==1.6.0 in /usr/local/lib/python3.7/dist-packages (from -r yeast-GEM/requirements/requirements.txt (line 266)) (1.6.0)\n",
            "Requirement already satisfied: pyrsistent==0.17.3 in /usr/local/lib/python3.7/dist-packages (from -r yeast-GEM/requirements/requirements.txt (line 268)) (0.17.3)\n",
            "Requirement already satisfied: pytest==6.2.3 in /usr/local/lib/python3.7/dist-packages (from -r yeast-GEM/requirements/requirements.txt (line 270)) (6.2.3)\n",
            "Requirement already satisfied: python-dateutil==2.8.1 in /usr/local/lib/python3.7/dist-packages (from -r yeast-GEM/requirements/requirements.txt (line 272)) (2.8.1)\n",
            "Requirement already satisfied: python-dotenv==0.19.0 in /usr/local/lib/python3.7/dist-packages (from -r yeast-GEM/requirements/requirements.txt (line 279)) (0.19.0)\n",
            "Requirement already satisfied: python-libsbml==5.19.0 in /usr/local/lib/python3.7/dist-packages (from -r yeast-GEM/requirements/requirements.txt (line 281)) (5.19.0)\n",
            "Requirement already satisfied: python-slugify==4.0.1 in /usr/local/lib/python3.7/dist-packages (from -r yeast-GEM/requirements/requirements.txt (line 283)) (4.0.1)\n",
            "Requirement already satisfied: pytz==2021.1 in /usr/local/lib/python3.7/dist-packages (from -r yeast-GEM/requirements/requirements.txt (line 285)) (2021.1)\n",
            "Requirement already satisfied: pyyaml==5.4.1 in /usr/local/lib/python3.7/dist-packages (from -r yeast-GEM/requirements/requirements.txt (line 289)) (5.4.1)\n",
            "Requirement already satisfied: pyzmq==22.0.3 in /usr/local/lib/python3.7/dist-packages (from -r yeast-GEM/requirements/requirements.txt (line 291)) (22.0.3)\n",
            "Requirement already satisfied: requests==2.25.1 in /usr/local/lib/python3.7/dist-packages (from -r yeast-GEM/requirements/requirements.txt (line 295)) (2.25.1)\n",
            "Requirement already satisfied: rfc3986[idna2008]==1.4.0 in /usr/local/lib/python3.7/dist-packages (from -r yeast-GEM/requirements/requirements.txt (line 305)) (1.4.0)\n",
            "Collecting rich==10.7.0\n",
            "  Using cached rich-10.7.0-py3-none-any.whl (209 kB)\n",
            "Requirement already satisfied: ruamel.yaml==0.17.4 in /usr/local/lib/python3.7/dist-packages (from -r yeast-GEM/requirements/requirements.txt (line 311)) (0.17.4)\n",
            "Requirement already satisfied: ruamel.yaml.clib==0.2.2 in /usr/local/lib/python3.7/dist-packages (from -r yeast-GEM/requirements/requirements.txt (line 315)) (0.2.2)\n",
            "Requirement already satisfied: s3transfer==0.3.6 in /usr/local/lib/python3.7/dist-packages (from -r yeast-GEM/requirements/requirements.txt (line 317)) (0.3.6)\n",
            "Requirement already satisfied: send2trash==1.5.0 in /usr/local/lib/python3.7/dist-packages (from -r yeast-GEM/requirements/requirements.txt (line 319)) (1.5.0)\n",
            "Requirement already satisfied: simpleeval==0.9.10 in /usr/local/lib/python3.7/dist-packages (from -r yeast-GEM/requirements/requirements.txt (line 321)) (0.9.10)\n",
            "Requirement already satisfied: six==1.15.0 in /usr/local/lib/python3.7/dist-packages (from -r yeast-GEM/requirements/requirements.txt (line 323)) (1.15.0)\n",
            "Requirement already satisfied: smmap==4.0.0 in /usr/local/lib/python3.7/dist-packages (from -r yeast-GEM/requirements/requirements.txt (line 339)) (4.0.0)\n",
            "Requirement already satisfied: sniffio==1.2.0 in /usr/local/lib/python3.7/dist-packages (from -r yeast-GEM/requirements/requirements.txt (line 341)) (1.2.0)\n",
            "Requirement already satisfied: snowballstemmer==2.1.0 in /usr/local/lib/python3.7/dist-packages (from -r yeast-GEM/requirements/requirements.txt (line 345)) (2.1.0)\n",
            "Requirement already satisfied: sphinx==3.5.3 in /usr/local/lib/python3.7/dist-packages (from -r yeast-GEM/requirements/requirements.txt (line 347)) (3.5.3)\n",
            "Requirement already satisfied: sphinxcontrib-applehelp==1.0.2 in /usr/local/lib/python3.7/dist-packages (from -r yeast-GEM/requirements/requirements.txt (line 349)) (1.0.2)\n",
            "Requirement already satisfied: sphinxcontrib-devhelp==1.0.2 in /usr/local/lib/python3.7/dist-packages (from -r yeast-GEM/requirements/requirements.txt (line 351)) (1.0.2)\n",
            "Requirement already satisfied: sphinxcontrib-htmlhelp==1.0.3 in /usr/local/lib/python3.7/dist-packages (from -r yeast-GEM/requirements/requirements.txt (line 353)) (1.0.3)\n",
            "Requirement already satisfied: sphinxcontrib-jsmath==1.0.1 in /usr/local/lib/python3.7/dist-packages (from -r yeast-GEM/requirements/requirements.txt (line 355)) (1.0.1)\n",
            "Requirement already satisfied: sphinxcontrib-qthelp==1.0.3 in /usr/local/lib/python3.7/dist-packages (from -r yeast-GEM/requirements/requirements.txt (line 357)) (1.0.3)\n",
            "Requirement already satisfied: sphinxcontrib-serializinghtml==1.1.4 in /usr/local/lib/python3.7/dist-packages (from -r yeast-GEM/requirements/requirements.txt (line 359)) (1.1.4)\n",
            "Requirement already satisfied: sqlalchemy==1.4.7 in /usr/local/lib/python3.7/dist-packages (from -r yeast-GEM/requirements/requirements.txt (line 361)) (1.4.7)\n",
            "Requirement already satisfied: statistics==1.0.3.5 in /usr/local/lib/python3.7/dist-packages (from -r yeast-GEM/requirements/requirements.txt (line 365)) (1.0.3.5)\n",
            "Requirement already satisfied: swiglpk==5.0.3 in /usr/local/lib/python3.7/dist-packages (from -r yeast-GEM/requirements/requirements.txt (line 367)) (5.0.3)\n",
            "Requirement already satisfied: symengine==0.8.1 in /usr/local/lib/python3.7/dist-packages (from -r yeast-GEM/requirements/requirements.txt (line 371)) (0.8.1)\n",
            "Requirement already satisfied: sympy==1.8 in /usr/local/lib/python3.7/dist-packages (from -r yeast-GEM/requirements/requirements.txt (line 373)) (1.8)\n",
            "Requirement already satisfied: tableschema==1.20.2 in /usr/local/lib/python3.7/dist-packages (from -r yeast-GEM/requirements/requirements.txt (line 377)) (1.20.2)\n",
            "Requirement already satisfied: tabulator==1.53.5 in /usr/local/lib/python3.7/dist-packages (from -r yeast-GEM/requirements/requirements.txt (line 381)) (1.53.5)\n",
            "Requirement already satisfied: terminado==0.9.4 in /usr/local/lib/python3.7/dist-packages (from -r yeast-GEM/requirements/requirements.txt (line 386)) (0.9.4)\n",
            "Requirement already satisfied: testpath==0.4.4 in /usr/local/lib/python3.7/dist-packages (from -r yeast-GEM/requirements/requirements.txt (line 388)) (0.4.4)\n",
            "Requirement already satisfied: text-unidecode==1.3 in /usr/local/lib/python3.7/dist-packages (from -r yeast-GEM/requirements/requirements.txt (line 390)) (1.3)\n",
            "Requirement already satisfied: toml==0.10.2 in /usr/local/lib/python3.7/dist-packages (from -r yeast-GEM/requirements/requirements.txt (line 392)) (0.10.2)\n",
            "Requirement already satisfied: tornado==6.1 in /usr/local/lib/python3.7/dist-packages (from -r yeast-GEM/requirements/requirements.txt (line 394)) (6.1)\n",
            "Requirement already satisfied: traitlets==5.0.5 in /usr/local/lib/python3.7/dist-packages (from -r yeast-GEM/requirements/requirements.txt (line 400)) (5.0.5)\n",
            "Requirement already satisfied: travis-encrypt==1.1.2 in /usr/local/lib/python3.7/dist-packages (from -r yeast-GEM/requirements/requirements.txt (line 410)) (1.1.2)\n",
            "Requirement already satisfied: typing-extensions==3.7.4.3 in /usr/local/lib/python3.7/dist-packages (from -r yeast-GEM/requirements/requirements.txt (line 412)) (3.7.4.3)\n",
            "Requirement already satisfied: unicodecsv==0.14.1 in /usr/local/lib/python3.7/dist-packages (from -r yeast-GEM/requirements/requirements.txt (line 414)) (0.14.1)\n",
            "Requirement already satisfied: urllib3==1.26.5 in /usr/local/lib/python3.7/dist-packages (from -r yeast-GEM/requirements/requirements.txt (line 419)) (1.26.5)\n",
            "Requirement already satisfied: wcwidth==0.2.5 in /usr/local/lib/python3.7/dist-packages (from -r yeast-GEM/requirements/requirements.txt (line 423)) (0.2.5)\n",
            "Requirement already satisfied: webencodings==0.5.1 in /usr/local/lib/python3.7/dist-packages (from -r yeast-GEM/requirements/requirements.txt (line 425)) (0.5.1)\n",
            "Requirement already satisfied: xlrd==2.0.1 in /usr/local/lib/python3.7/dist-packages (from -r yeast-GEM/requirements/requirements.txt (line 427)) (2.0.1)\n",
            "Requirement already satisfied: importlib-metadata in /usr/local/lib/python3.7/dist-packages (from depinfo==1.7.0->-r yeast-GEM/requirements/requirements.txt (line 89)) (4.11.3)\n",
            "Requirement already satisfied: zipp>=0.4 in /usr/local/lib/python3.7/dist-packages (from importlib-resources==5.1.2->-r yeast-GEM/requirements/requirements.txt (line 129)) (3.7.0)\n",
            "Requirement already satisfied: setuptools>=18.5 in /usr/local/lib/python3.7/dist-packages (from ipython==7.22.0->-r yeast-GEM/requirements/requirements.txt (line 137)) (57.4.0)\n",
            "Installing collected packages: rich\n",
            "  Attempting uninstall: rich\n",
            "    Found existing installation: rich 12.0.1\n",
            "    Uninstalling rich-12.0.1:\n",
            "      Successfully uninstalled rich-12.0.1\n",
            "Successfully installed rich-10.7.0\n"
          ]
        }
      ]
    },
    {
      "cell_type": "markdown",
      "source": [
        "Hérna loadum við yeast módelinu."
      ],
      "metadata": {
        "id": "veEv7UGxqr1H"
      }
    },
    {
      "cell_type": "code",
      "source": [
        "\n",
        "os.chdir('yeast-GEM')\n",
        "! touch .env\n",
        "from dotenv import find_dotenv\n",
        "from os.path import dirname\n",
        "\n",
        "# find .env + define paths:\n",
        "dotenv_path = find_dotenv()\n",
        "REPO_PATH = dirname(dotenv_path)\n",
        "MODEL_PATH = f\"{REPO_PATH}/model/yeast-GEM.xml\""
      ],
      "metadata": {
        "id": "wKqbMC4MyNfK"
      },
      "execution_count": null,
      "outputs": []
    },
    {
      "cell_type": "code",
      "source": [
        "import importlib.util\n",
        "spec = importlib.util.spec_from_file_location(\"alo\", \"/content/yeast-GEM/code/io.py\")\n",
        "foo = importlib.util.module_from_spec(spec)\n",
        "spec.loader.exec_module(foo)\n",
        "model = foo.read_yeast_model()"
      ],
      "metadata": {
        "colab": {
          "base_uri": "https://localhost:8080/"
        },
        "id": "efsEtDPQqiyD",
        "outputId": "0f3c1261-6877-4656-a83d-07b5fc6e6b3d"
      },
      "execution_count": null,
      "outputs": [
        {
          "output_type": "stream",
          "name": "stdout",
          "text": [
            "Restricted license - for non-production use only - expires 2023-10-25\n"
          ]
        }
      ]
    },
    {
      "cell_type": "markdown",
      "source": [
        "# Að keyra modelið (unadjusted)  með KO. "
      ],
      "metadata": {
        "id": "kAq3mtbJpKGs"
      }
    },
    {
      "cell_type": "code",
      "source": [
        "##from os.path import join\n",
        "#data_dir = MODEL_PATH\n",
        "#model = cobra.io.read_sbml_model(data_dir)\n",
        "#model\n",
        "model.solver = \"glpk\""
      ],
      "metadata": {
        "id": "qtjbr3NB05I8"
      },
      "execution_count": null,
      "outputs": []
    },
    {
      "cell_type": "code",
      "source": [
        "model.reactions.r_1111"
      ],
      "metadata": {
        "colab": {
          "base_uri": "https://localhost:8080/",
          "height": 204
        },
        "id": "EKasiRuszNOf",
        "outputId": "3021cd20-2b1e-4f81-fb9a-0cfb9de51063"
      },
      "execution_count": null,
      "outputs": [
        {
          "output_type": "execute_result",
          "data": {
            "text/plain": [
              "<Reaction r_1111 at 0x7fe5f132ecd0>"
            ],
            "text/html": [
              "\n",
              "        <table>\n",
              "            <tr>\n",
              "                <td><strong>Reaction identifier</strong></td><td>r_1111</td>\n",
              "            </tr><tr>\n",
              "                <td><strong>Name</strong></td><td>ADP/ATP transporter</td>\n",
              "            </tr><tr>\n",
              "                <td><strong>Memory address</strong></td>\n",
              "                <td>0x07fe5f132ecd0</td>\n",
              "            </tr><tr>\n",
              "                <td><strong>Stoichiometry</strong></td>\n",
              "                <td>\n",
              "                    <p style='text-align:right'>s_0399[p] + s_0434[c] + s_0801[p] --> s_0394[c] + s_0439[p] + s_0794[c]</p>\n",
              "                    <p style='text-align:right'>ADP [peroxisome] + ATP [cytoplasm] + H+ [peroxisome] --> ADP [cytoplasm] + ATP [peroxisome] + H+ [cytoplasm]</p>\n",
              "                </td>\n",
              "            </tr><tr>\n",
              "                <td><strong>GPR</strong></td><td>YPR128C</td>\n",
              "            </tr><tr>\n",
              "                <td><strong>Lower bound</strong></td><td>0.0</td>\n",
              "            </tr><tr>\n",
              "                <td><strong>Upper bound</strong></td><td>1000.0</td>\n",
              "            </tr>\n",
              "        </table>\n",
              "        "
            ]
          },
          "metadata": {},
          "execution_count": 25
        }
      ]
    }
  ]
}